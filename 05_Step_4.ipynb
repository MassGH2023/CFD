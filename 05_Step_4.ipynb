{
  "cells": [
    {
      "cell_type": "markdown",
      "metadata": {
        "id": "view-in-github",
        "colab_type": "text"
      },
      "source": [
        "<a href=\"https://colab.research.google.com/github/MassGH2023/CFD/blob/main/05_Step_4.ipynb\" target=\"_parent\"><img src=\"https://colab.research.google.com/assets/colab-badge.svg\" alt=\"Open In Colab\"/></a>"
      ]
    },
    {
      "cell_type": "raw",
      "metadata": {
        "id": "4cDeH5rKQKQB"
      },
      "source": [
        "Text provided under a Creative Commons Attribution license, CC-BY.  All code is made available under the FSF-approved BSD-3 license.  (c) Lorena A. Barba, Gilbert F. Forsyth 2017. Thanks to NSF for support via CAREER award #1149784."
      ]
    },
    {
      "cell_type": "markdown",
      "metadata": {
        "id": "lOuY-DH9QKQC"
      },
      "source": [
        "[@LorenaABarba](https://twitter.com/LorenaABarba)"
      ]
    },
    {
      "cell_type": "markdown",
      "metadata": {
        "id": "9YcIxR4RQKQE"
      },
      "source": [
        "12 steps to Navier–Stokes\n",
        "=====\n",
        "***"
      ]
    },
    {
      "cell_type": "markdown",
      "metadata": {
        "id": "pYl_LWP-QKQE"
      },
      "source": [
        "We continue our journey to solve the Navier–Stokes equation with Step 4. But don't continue unless you have completed the previous steps! In fact, this next step will be a combination of the two previous ones. The wonders of *code reuse*!"
      ]
    },
    {
      "cell_type": "markdown",
      "metadata": {
        "id": "AhFsm5LSQKQE"
      },
      "source": [
        "Step 4: Burgers' Equation\n",
        "----\n",
        "***"
      ]
    },
    {
      "cell_type": "markdown",
      "metadata": {
        "id": "h2jKpXMBQKQF"
      },
      "source": [
        "You can read about Burgers' Equation on its [wikipedia page](http://en.wikipedia.org/wiki/Burgers'_equation).\n",
        "\n",
        "Burgers' equation in one spatial dimension looks like this:\n",
        "\n",
        "$$\\frac{\\partial u}{\\partial t} + u \\frac{\\partial u}{\\partial x} = \\nu \\frac{\\partial ^2u}{\\partial x^2}$$\n",
        "\n",
        "As you can see, it is a combination of non-linear convection and diffusion. It is surprising how much you learn from this neat little equation!\n",
        "\n",
        "We can discretize it using the methods we've already detailed in Steps [1](./01_Step_1.ipynb) to [3](./04_Step_3.ipynb).  Using forward difference for time, backward difference for space and our 2nd-order method for the second derivatives yields:\n",
        "\n",
        "$$\\frac{u_i^{n+1}-u_i^n}{\\Delta t} + u_i^n \\frac{u_i^n - u_{i-1}^n}{\\Delta x} = \\nu \\frac{u_{i+1}^n - 2u_i^n + u_{i-1}^n}{\\Delta x^2}$$\n",
        "\n",
        "As before, once we have an initial condition, the only unknown is $u_i^{n+1}$. We will step in time as follows:\n",
        "\n",
        "$$u_i^{n+1} = u_i^n - u_i^n \\frac{\\Delta t}{\\Delta x} (u_i^n - u_{i-1}^n) + \\nu \\frac{\\Delta t}{\\Delta x^2}(u_{i+1}^n - 2u_i^n + u_{i-1}^n)$$"
      ]
    },
    {
      "cell_type": "markdown",
      "metadata": {
        "id": "GyEcRjX_QKQF"
      },
      "source": [
        "### Initial and Boundary Conditions\n",
        "\n",
        "To examine some interesting properties of Burgers' equation, it is helpful to use different initial and boundary conditions than we've been using for previous steps.  \n",
        "\n",
        "Our initial condition for this problem is going to be:\n",
        "\n",
        "\\begin{eqnarray}\n",
        "u &=& -\\frac{2 \\nu}{\\phi} \\frac{\\partial \\phi}{\\partial x} + 4 \\\\\\\n",
        "\\phi &=& \\exp \\bigg(\\frac{-x^2}{4 \\nu} \\bigg) + \\exp \\bigg(\\frac{-(x-2 \\pi)^2}{4 \\nu} \\bigg)\n",
        "\\end{eqnarray}\n",
        "\n",
        "This has an analytical solution, given by:\n",
        "\n",
        "\\begin{eqnarray}\n",
        "u &=& -\\frac{2 \\nu}{\\phi} \\frac{\\partial \\phi}{\\partial x} + 4 \\\\\\\n",
        "\\phi &=& \\exp \\bigg(\\frac{-(x-4t)^2}{4 \\nu (t+1)} \\bigg) + \\exp \\bigg(\\frac{-(x-4t -2 \\pi)^2}{4 \\nu(t+1)} \\bigg)\n",
        "\\end{eqnarray}\n",
        "\n",
        "Our boundary condition will be:\n",
        "\n",
        "$$u(0) = u(2\\pi)$$\n",
        "\n",
        "This is called a *periodic* boundary condition. Pay attention! This will cause you a bit of headache if you don't tread carefully."
      ]
    },
    {
      "cell_type": "markdown",
      "metadata": {
        "id": "9cnJ_01ZQKQF"
      },
      "source": [
        "### Saving Time with SymPy\n",
        "\n",
        "\n",
        "The initial condition we're using for Burgers' Equation can be a bit of a pain to evaluate by hand.  The derivative $\\frac{\\partial \\phi}{\\partial x}$ isn't too terribly difficult, but it would be easy to drop a sign or forget a factor of $x$ somewhere, so we're going to use SymPy to help us out.  \n",
        "\n",
        "[SymPy](http://sympy.org/en/) is the symbolic math library for Python.  It has a lot of the same symbolic math functionality as Mathematica with the added benefit that we can easily translate its results back into our Python calculations (it is also free and open source).\n",
        "\n",
        "Start by loading the SymPy library, together with our favorite library, NumPy."
      ]
    },
    {
      "cell_type": "code",
      "execution_count": null,
      "metadata": {
        "id": "EVdXyPNpQKQG"
      },
      "outputs": [],
      "source": [
        "import numpy\n",
        "import sympy"
      ]
    },
    {
      "cell_type": "markdown",
      "metadata": {
        "id": "CME75pvTQKQH"
      },
      "source": [
        "We're also going to tell SymPy that we want all of its output to be rendered using $\\LaTeX$. This will make our Notebook beautiful!"
      ]
    },
    {
      "cell_type": "code",
      "execution_count": null,
      "metadata": {
        "id": "2rpVOP0wQKQH"
      },
      "outputs": [],
      "source": [
        "from sympy import init_printing\n",
        "init_printing(use_latex=True)"
      ]
    },
    {
      "cell_type": "markdown",
      "metadata": {
        "id": "gD-Je31jQKQH"
      },
      "source": [
        "Start by setting up symbolic variables for the three variables in our initial condition and then type out the full equation for $\\phi$.  We should get a nicely rendered version of our $\\phi$ equation."
      ]
    },
    {
      "cell_type": "code",
      "execution_count": null,
      "metadata": {
        "colab": {
          "base_uri": "https://localhost:8080/",
          "height": 46
        },
        "id": "bHTYiCYzQKQI",
        "outputId": "ca70f11e-863b-4073-a4a3-498afc2ed616"
      },
      "outputs": [
        {
          "output_type": "execute_result",
          "data": {
            "text/plain": [
              "                  2                2 \n",
              " -(-4⋅t + x - 2⋅π)      -(-4⋅t + x)  \n",
              " ───────────────────    ─────────────\n",
              "     4⋅ν⋅(t + 1)         4⋅ν⋅(t + 1) \n",
              "ℯ                    + ℯ             "
            ],
            "text/latex": "$\\displaystyle e^{- \\frac{\\left(- 4 t + x - 2 \\pi\\right)^{2}}{4 \\nu \\left(t + 1\\right)}} + e^{- \\frac{\\left(- 4 t + x\\right)^{2}}{4 \\nu \\left(t + 1\\right)}}$"
          },
          "metadata": {},
          "execution_count": 4
        }
      ],
      "source": [
        "x, nu, t = sympy.symbols('x nu t')\n",
        "phi = (sympy.exp(-(x - 4 * t)**2 / (4 * nu * (t + 1))) +\n",
        "       sympy.exp(-(x - 4 * t - 2 * sympy.pi)**2 / (4 * nu * (t + 1))))\n",
        "phi"
      ]
    },
    {
      "cell_type": "markdown",
      "metadata": {
        "id": "OPxY1ND6QKQI"
      },
      "source": [
        "It's maybe a little small, but that looks right.  Now to evaluate our partial derivative $\\frac{\\partial \\phi}{\\partial x}$ is a trivial task.  "
      ]
    },
    {
      "cell_type": "code",
      "execution_count": null,
      "metadata": {
        "colab": {
          "base_uri": "https://localhost:8080/",
          "height": 67
        },
        "id": "hfQawMlyQKQI",
        "outputId": "980a26e6-5052-41ac-f901-14b540f699dd"
      },
      "outputs": [
        {
          "output_type": "execute_result",
          "data": {
            "text/plain": [
              "                           2                                         2 \n",
              "                -(-4⋅t + x)                         -(-4⋅t + x - 2⋅π)  \n",
              "                ─────────────                       ───────────────────\n",
              "                 4⋅ν⋅(t + 1)                            4⋅ν⋅(t + 1)    \n",
              "  (-8⋅t + 2⋅x)⋅ℯ                (-8⋅t + 2⋅x - 4⋅π)⋅ℯ                   \n",
              "- ─────────────────────────── - ───────────────────────────────────────\n",
              "          4⋅ν⋅(t + 1)                         4⋅ν⋅(t + 1)              "
            ],
            "text/latex": "$\\displaystyle - \\frac{\\left(- 8 t + 2 x\\right) e^{- \\frac{\\left(- 4 t + x\\right)^{2}}{4 \\nu \\left(t + 1\\right)}}}{4 \\nu \\left(t + 1\\right)} - \\frac{\\left(- 8 t + 2 x - 4 \\pi\\right) e^{- \\frac{\\left(- 4 t + x - 2 \\pi\\right)^{2}}{4 \\nu \\left(t + 1\\right)}}}{4 \\nu \\left(t + 1\\right)}$"
          },
          "metadata": {},
          "execution_count": 5
        }
      ],
      "source": [
        "phiprime = phi.diff(x)\n",
        "phiprime"
      ]
    },
    {
      "cell_type": "markdown",
      "metadata": {
        "id": "7eO9GxOSQKQJ"
      },
      "source": [
        "If you want to see the unrendered version, just use the Python print command."
      ]
    },
    {
      "cell_type": "code",
      "execution_count": null,
      "metadata": {
        "colab": {
          "base_uri": "https://localhost:8080/"
        },
        "id": "lwUviHQQQKQJ",
        "outputId": "88c6bcaf-fcb4-408d-86c8-ccf05d7a5ee8"
      },
      "outputs": [
        {
          "output_type": "stream",
          "name": "stdout",
          "text": [
            "-(-8*t + 2*x)*exp(-(-4*t + x)**2/(4*nu*(t + 1)))/(4*nu*(t + 1)) - (-8*t + 2*x - 4*pi)*exp(-(-4*t + x - 2*pi)**2/(4*nu*(t + 1)))/(4*nu*(t + 1))\n"
          ]
        }
      ],
      "source": [
        "print(phiprime)"
      ]
    },
    {
      "cell_type": "markdown",
      "metadata": {
        "id": "pTK91E78QKQJ"
      },
      "source": [
        "### Now what?\n",
        "\n",
        "\n",
        "Now that we have the Pythonic version of our derivative, we can finish writing out the full initial condition equation and then translate it into a usable Python expression.  For this, we'll use the *lambdify* function, which takes a SymPy symbolic equation and turns it into a callable function.  "
      ]
    },
    {
      "cell_type": "code",
      "execution_count": null,
      "metadata": {
        "colab": {
          "base_uri": "https://localhost:8080/"
        },
        "id": "wME-o7s7QKQJ",
        "outputId": "9ab8d4ee-f488-4920-bf4a-c387cfff481f"
      },
      "outputs": [
        {
          "output_type": "stream",
          "name": "stdout",
          "text": [
            "-2*nu*(-(-8*t + 2*x)*exp(-(-4*t + x)**2/(4*nu*(t + 1)))/(4*nu*(t + 1)) - (-8*t + 2*x - 4*pi)*exp(-(-4*t + x - 2*pi)**2/(4*nu*(t + 1)))/(4*nu*(t + 1)))/(exp(-(-4*t + x - 2*pi)**2/(4*nu*(t + 1))) + exp(-(-4*t + x)**2/(4*nu*(t + 1)))) + 4\n"
          ]
        }
      ],
      "source": [
        "from sympy.utilities.lambdify import lambdify\n",
        "\n",
        "u = -2 * nu * (phiprime / phi) + 4\n",
        "print(u)"
      ]
    },
    {
      "cell_type": "markdown",
      "metadata": {
        "id": "G2xi9uMkQKQK"
      },
      "source": [
        "### Lambdify\n",
        "\n",
        "To lambdify this expression into a useable function, we tell lambdify which variables to request and the function we want to plug them in to."
      ]
    },
    {
      "cell_type": "code",
      "execution_count": null,
      "metadata": {
        "colab": {
          "base_uri": "https://localhost:8080/"
        },
        "id": "LqvsCoBtQKQK",
        "outputId": "578205de-8105-45e7-bbfe-83c4eeef20f3"
      },
      "outputs": [
        {
          "output_type": "stream",
          "name": "stdout",
          "text": [
            "3.49170664206445\n"
          ]
        }
      ],
      "source": [
        "ufunc = lambdify((t, x, nu), u)\n",
        "print(ufunc(1, 4, 3))"
      ]
    },
    {
      "cell_type": "code",
      "source": [
        "ufunc"
      ],
      "metadata": {
        "colab": {
          "base_uri": "https://localhost:8080/"
        },
        "id": "1R4l1RN9T_8v",
        "outputId": "446660f8-97fa-4fb8-b892-cb0d71dae041"
      },
      "execution_count": null,
      "outputs": [
        {
          "output_type": "execute_result",
          "data": {
            "text/plain": [
              "<function _lambdifygenerated(t, x, nu)>"
            ]
          },
          "metadata": {},
          "execution_count": 9
        }
      ]
    },
    {
      "cell_type": "markdown",
      "metadata": {
        "id": "A_6kZtRWQKQK"
      },
      "source": [
        "### Back to Burgers' Equation\n",
        "\n",
        "Now that we have the initial conditions set up, we can proceed and finish setting up the problem.  We can generate the plot of the initial condition using our lambdify-ed function."
      ]
    },
    {
      "cell_type": "code",
      "execution_count": null,
      "metadata": {
        "colab": {
          "base_uri": "https://localhost:8080/"
        },
        "id": "OMzWywwpQKQK",
        "outputId": "10530705-580d-48c8-b50a-e8fc2a41f7b2"
      },
      "outputs": [
        {
          "output_type": "execute_result",
          "data": {
            "text/plain": [
              "array([4.        , 4.06283185, 4.12566371, 4.18849556, 4.25132741,\n",
              "       4.31415927, 4.37699112, 4.43982297, 4.50265482, 4.56548668,\n",
              "       4.62831853, 4.69115038, 4.75398224, 4.81681409, 4.87964594,\n",
              "       4.9424778 , 5.00530965, 5.0681415 , 5.13097336, 5.19380521,\n",
              "       5.25663706, 5.31946891, 5.38230077, 5.44513262, 5.50796447,\n",
              "       5.57079633, 5.63362818, 5.69646003, 5.75929189, 5.82212374,\n",
              "       5.88495559, 5.94778745, 6.0106193 , 6.07345115, 6.136283  ,\n",
              "       6.19911486, 6.26194671, 6.32477856, 6.38761042, 6.45044227,\n",
              "       6.51327412, 6.57610598, 6.63893783, 6.70176967, 6.76460125,\n",
              "       6.82742866, 6.89018589, 6.95176632, 6.99367964, 6.72527549,\n",
              "       4.        , 1.27472451, 1.00632036, 1.04823368, 1.10981411,\n",
              "       1.17257134, 1.23539875, 1.29823033, 1.36106217, 1.42389402,\n",
              "       1.48672588, 1.54955773, 1.61238958, 1.67522144, 1.73805329,\n",
              "       1.80088514, 1.863717  , 1.92654885, 1.9893807 , 2.05221255,\n",
              "       2.11504441, 2.17787626, 2.24070811, 2.30353997, 2.36637182,\n",
              "       2.42920367, 2.49203553, 2.55486738, 2.61769923, 2.68053109,\n",
              "       2.74336294, 2.80619479, 2.86902664, 2.9318585 , 2.99469035,\n",
              "       3.0575222 , 3.12035406, 3.18318591, 3.24601776, 3.30884962,\n",
              "       3.37168147, 3.43451332, 3.49734518, 3.56017703, 3.62300888,\n",
              "       3.68584073, 3.74867259, 3.81150444, 3.87433629, 3.93716815,\n",
              "       4.        ])"
            ]
          },
          "metadata": {},
          "execution_count": 10
        }
      ],
      "source": [
        "from matplotlib import pyplot\n",
        "%matplotlib inline\n",
        "\n",
        "###variable declarations\n",
        "nx = 101\n",
        "nt = 100\n",
        "dx = 2 * numpy.pi / (nx - 1)\n",
        "nu = .07\n",
        "dt = dx * nu\n",
        "\n",
        "x = numpy.linspace(0, 2 * numpy.pi, nx)\n",
        "un = numpy.empty(nx)\n",
        "t = 0\n",
        "\n",
        "u = numpy.asarray([ufunc(t, x0, nu) for x0 in x])\n",
        "u"
      ]
    },
    {
      "cell_type": "code",
      "execution_count": null,
      "metadata": {
        "colab": {
          "base_uri": "https://localhost:8080/",
          "height": 605
        },
        "id": "t_8WavKjQKQL",
        "outputId": "37bf2e22-5698-49ea-c424-9f6ee3fd9f7e"
      },
      "outputs": [
        {
          "output_type": "display_data",
          "data": {
            "text/plain": [
              "<Figure size 1100x700 with 1 Axes>"
            ],
            "image/png": "[encoded data removed]"
          },
          "metadata": {}
        }
      ],
      "source": [
        "pyplot.figure(figsize=(11, 7), dpi=100)\n",
        "pyplot.plot(x, u, marker='o', lw=2)\n",
        "pyplot.xlim([0, 2 * numpy.pi])\n",
        "pyplot.ylim([0, 10]);"
      ]
    },
    {
      "cell_type": "markdown",
      "metadata": {
        "id": "gbJ6SZ0bQKQL"
      },
      "source": [
        "This is definitely not the hat function we've been dealing with until now. We call it a \"saw-tooth function\".  Let's proceed forward and see what happens.  "
      ]
    },
    {
      "cell_type": "markdown",
      "metadata": {
        "id": "5BoJlhaTQKQL"
      },
      "source": [
        "### Periodic Boundary Conditions\n",
        "\n",
        "One of the big differences between Step 4 and the previous lessons is the use of *periodic* boundary conditions.  If you experiment with Steps 1 and 2 and make the simulation run longer (by increasing `nt`) you will notice that the wave will keep moving to the right until it no longer even shows up in the plot.  \n",
        "\n",
        "With periodic boundary conditions, when a point gets to the right-hand side of the frame, it *wraps around* back to the front of the frame.  \n",
        "\n",
        "Recall the discretization that we worked out at the beginning of this notebook:\n",
        "\n",
        "$$u_i^{n+1} = u_i^n - u_i^n \\frac{\\Delta t}{\\Delta x} (u_i^n - u_{i-1}^n) + \\nu \\frac{\\Delta t}{\\Delta x^2}(u_{i+1}^n - 2u_i^n + u_{i-1}^n)$$\n",
        "\n",
        "What does $u_{i+1}^n$ *mean* when $i$ is already at the end of the frame?\n",
        "\n",
        "Think about this for a minute before proceeding.  \n",
        "\n"
      ]
    },
    {
      "cell_type": "code",
      "execution_count": null,
      "metadata": {
        "id": "KXz47MOlQKQL"
      },
      "outputs": [],
      "source": [
        "for n in range(nt):\n",
        "    un = u.copy()\n",
        "    for i in range(1, nx-1):\n",
        "        u[i] = un[i] - un[i] * dt / dx *(un[i] - un[i-1]) + nu * dt / dx**2 *\\\n",
        "                (un[i+1] - 2 * un[i] + un[i-1])\n",
        "    u[0] = un[0] - un[0] * dt / dx * (un[0] - un[-2]) + nu * dt / dx**2 *\\\n",
        "                (un[1] - 2 * un[0] + un[-2])\n",
        "    u[-1] = u[0]\n",
        "\n",
        "u_analytical = numpy.asarray([ufunc(nt * dt, xi, nu) for xi in x])"
      ]
    },
    {
      "cell_type": "code",
      "execution_count": null,
      "metadata": {
        "colab": {
          "base_uri": "https://localhost:8080/",
          "height": 605
        },
        "id": "BRYHAB5WQKQM",
        "outputId": "39ce44a0-91a3-4a3f-a275-403804660af1"
      },
      "outputs": [
        {
          "output_type": "display_data",
          "data": {
            "text/plain": [
              "<Figure size 1100x700 with 1 Axes>"
            ],
            "image/png": "[encoded data removed]"
          },
          "metadata": {}
        }
      ],
      "source": [
        "pyplot.figure(figsize=(11, 7), dpi=100)\n",
        "pyplot.plot(x,u, marker='o', lw=2, label='Computational')\n",
        "pyplot.plot(x, u_analytical, label='Analytical')\n",
        "pyplot.xlim([0, 2 * numpy.pi])\n",
        "pyplot.ylim([0, 10])\n",
        "pyplot.legend();"
      ]
    },
    {
      "cell_type": "markdown",
      "metadata": {
        "id": "XOqOWAjYQKQM"
      },
      "source": [
        "***\n",
        "\n",
        "What next?\n",
        "----\n",
        "\n",
        "The subsequent steps, from 5 to 12, will be in two dimensions. But it is easy to extend the 1D finite-difference formulas to the partial derivatives in 2D or 3D. Just apply the definition — a partial derivative with respect to $x$ is the variation in the $x$ direction *while keeping $y$ constant*.\n",
        "\n",
        "Before moving on to [Step 5](./07_Step_5.ipynb), make sure you have completed your own code for steps 1 through 4 and you have experimented with the parameters and thought about what is happening. Also, we recommend that you take a slight break to learn about [array operations with NumPy](./06_Array_Operations_with_NumPy.ipynb)."
      ]
    },
    {
      "cell_type": "code",
      "execution_count": null,
      "metadata": {
        "id": "fC8E8Y5OQKQM",
        "outputId": "cbe66972-8099-49d2-c430-b1553f128c80"
      },
      "outputs": [
        {
          "data": {
            "text/html": [
              "<link href='http://fonts.googleapis.com/css?family=Fenix' rel='stylesheet' type='text/css'>\n",
              "<link href='http://fonts.googleapis.com/css?family=Alegreya+Sans:100,300,400,500,700,800,900,100italic,300italic,400italic,500italic,700italic,800italic,900italic' rel='stylesheet' type='text/css'>\n",
              "<link href='http://fonts.googleapis.com/css?family=Source+Code+Pro:300,400' rel='stylesheet' type='text/css'>\n",
              "<style>\n",
              "    @font-face {\n",
              "        font-family: \"Computer Modern\";\n",
              "        src: url('http://mirrors.ctan.org/fonts/cm-unicode/fonts/otf/cmunss.otf');\n",
              "    }\n",
              "    div.cell{\n",
              "        width:800px;\n",
              "        margin-left:16% !important;\n",
              "        margin-right:auto;\n",
              "    }\n",
              "    h1 {\n",
              "        font-family: 'Alegreya Sans', sans-serif;\n",
              "    }\n",
              "    h2 {\n",
              "        font-family: 'Fenix', serif;\n",
              "    }\n",
              "    h3{\n",
              "\t\tfont-family: 'Fenix', serif;\n",
              "        margin-top:12px;\n",
              "        margin-bottom: 3px;\n",
              "       }\n",
              "\th4{\n",
              "\t\tfont-family: 'Fenix', serif;\n",
              "       }\n",
              "    h5 {\n",
              "        font-family: 'Alegreya Sans', sans-serif;\n",
              "    }\t   \n",
              "    div.text_cell_render{\n",
              "        font-family: 'Alegreya Sans',Computer Modern, \"Helvetica Neue\", Arial, Helvetica, Geneva, sans-serif;\n",
              "        line-height: 135%;\n",
              "        font-size: 120%;\n",
              "        width:600px;\n",
              "        margin-left:auto;\n",
              "        margin-right:auto;\n",
              "    }\n",
              "    .CodeMirror{\n",
              "            font-family: \"Source Code Pro\";\n",
              "\t\t\tfont-size: 90%;\n",
              "    }\n",
              "/*    .prompt{\n",
              "        display: None;\n",
              "    }*/\n",
              "    .text_cell_render h1 {\n",
              "        font-weight: 200;\n",
              "        font-size: 50pt;\n",
              "\t\tline-height: 100%;\n",
              "        color:#CD2305;\n",
              "        margin-bottom: 0.5em;\n",
              "        margin-top: 0.5em;\n",
              "        display: block;\n",
              "    }\t\n",
              "    .text_cell_render h5 {\n",
              "        font-weight: 300;\n",
              "        font-size: 16pt;\n",
              "        color: #CD2305;\n",
              "        font-style: italic;\n",
              "        margin-bottom: .5em;\n",
              "        margin-top: 0.5em;\n",
              "        display: block;\n",
              "    }\n",
              "    \n",
              "    .warning{\n",
              "        color: rgb( 240, 20, 20 )\n",
              "        }  \n",
              "</style>\n",
              "<script>\n",
              "    MathJax.Hub.Config({\n",
              "                        TeX: {\n",
              "                           extensions: [\"AMSmath.js\"]\n",
              "                           },\n",
              "                tex2jax: {\n",
              "                    inlineMath: [ ['$','$'], [\"\\\\(\",\"\\\\)\"] ],\n",
              "                    displayMath: [ ['$$','$$'], [\"\\\\[\",\"\\\\]\"] ]\n",
              "                },\n",
              "                displayAlign: 'center', // Change this to 'center' to center equations.\n",
              "                \"HTML-CSS\": {\n",
              "                    styles: {'.MathJax_Display': {\"margin\": 4}}\n",
              "                }\n",
              "        });\n",
              "</script>\n"
            ],
            "text/plain": [
              "<IPython.core.display.HTML object>"
            ]
          },
          "execution_count": 12,
          "metadata": {},
          "output_type": "execute_result"
        }
      ],
      "source": [
        "from IPython.core.display import HTML\n",
        "def css_styling():\n",
        "    styles = open(\"../styles/custom.css\", \"r\").read()\n",
        "    return HTML(styles)\n",
        "css_styling()"
      ]
    }
  ],
  "metadata": {
    "kernelspec": {
      "display_name": "Python 3",
      "name": "python3"
    },
    "language_info": {
      "codemirror_mode": {
        "name": "ipython",
        "version": 3
      },
      "file_extension": ".py",
      "mimetype": "text/x-python",
      "name": "python",
      "nbconvert_exporter": "python",
      "pygments_lexer": "ipython3",
      "version": "3.6.5"
    },
    "colab": {
      "provenance": [],
      "gpuType": "T4",
      "include_colab_link": true
    }
  },
  "nbformat": 4,
  "nbformat_minor": 0
}