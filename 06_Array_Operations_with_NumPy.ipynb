{
  "cells": [
    {
      "cell_type": "markdown",
      "metadata": {
        "id": "view-in-github",
        "colab_type": "text"
      },
      "source": [
        "<a href=\"https://colab.research.google.com/github/MassGH2023/CFD/blob/main/06_Array_Operations_with_NumPy.ipynb\" target=\"_parent\"><img src=\"https://colab.research.google.com/assets/colab-badge.svg\" alt=\"Open In Colab\"/></a>"
      ]
    },
    {
      "cell_type": "raw",
      "metadata": {
        "id": "QzmbBggAaumM"
      },
      "source": [
        "Text provided under a Creative Commons Attribution license, CC-BY.  All code is made available under the FSF-approved BSD-3 license.  (c) Lorena A. Barba, Gilbert F. Forsyth 2017. Thanks to NSF for support via CAREER award #1149784."
      ]
    },
    {
      "cell_type": "markdown",
      "metadata": {
        "id": "kptC1gG2aumN"
      },
      "source": [
        "[@LorenaABarba](https://twitter.com/LorenaABarba)"
      ]
    },
    {
      "cell_type": "markdown",
      "metadata": {
        "id": "rzlRylvEaumO"
      },
      "source": [
        "12 steps to Navier–Stokes\n",
        "=====\n",
        "***"
      ]
    },
    {
      "cell_type": "markdown",
      "metadata": {
        "id": "-lByiy_OaumP"
      },
      "source": [
        "This lesson complements the first interactive module of the online [CFD Python](https://github.com/barbagroup/CFDPython) class, by Prof. Lorena A. Barba, called **12 Steps to Navier–Stokes.** It was written with BU graduate student Gilbert Forsyth."
      ]
    },
    {
      "cell_type": "markdown",
      "metadata": {
        "id": "WPx20D3BaumP"
      },
      "source": [
        "Array Operations with NumPy\n",
        "----------------\n",
        "\n",
        "For more computationally intensive programs, the use of built-in Numpy functions can provide an  increase in execution speed many-times over.  As a simple example, consider the following equation:\n",
        "\n",
        "$$u^{n+1}_i = u^n_i-u^n_{i-1}$$\n",
        "\n",
        "Now, given a vector $u^n = [0, 1, 2, 3, 4, 5]\\ \\ $   we can calculate the values of $u^{n+1}$ by iterating over the values of $u^n$ with a for loop.  "
      ]
    },
    {
      "cell_type": "code",
      "execution_count": 1,
      "metadata": {
        "id": "UuJieTpWaumQ"
      },
      "outputs": [],
      "source": [
        "import numpy"
      ]
    },
    {
      "cell_type": "code",
      "execution_count": 2,
      "metadata": {
        "colab": {
          "base_uri": "https://localhost:8080/"
        },
        "id": "nMO7vFF3aumR",
        "outputId": "5bd189d5-e43a-4cb7-8ad6-a75d33b3df30"
      },
      "outputs": [
        {
          "output_type": "stream",
          "name": "stdout",
          "text": [
            "1\n",
            "1\n",
            "1\n",
            "1\n",
            "1\n"
          ]
        }
      ],
      "source": [
        "u = numpy.array((0, 1, 2, 3, 4, 5))\n",
        "\n",
        "for i in range(1, len(u)):\n",
        "    print(u[i] - u[i-1])"
      ]
    },
    {
      "cell_type": "markdown",
      "metadata": {
        "id": "ovZl_094aumS"
      },
      "source": [
        "This is the expected result and the execution time was nearly instantaneous.  If we perform the same operation as an array operation, then rather than calculate $u^n_i-u^n_{i-1}\\ $ 5 separate times, we can slice the $u$ array and calculate each operation with one command:"
      ]
    },
    {
      "cell_type": "code",
      "execution_count": 3,
      "metadata": {
        "colab": {
          "base_uri": "https://localhost:8080/"
        },
        "id": "MGNVW8FzaumS",
        "outputId": "9fbe923a-9ffc-4aad-db5b-1443b87761b8"
      },
      "outputs": [
        {
          "output_type": "execute_result",
          "data": {
            "text/plain": [
              "array([1, 1, 1, 1, 1])"
            ]
          },
          "metadata": {},
          "execution_count": 3
        }
      ],
      "source": [
        "u[1:] - u[0:-1]"
      ]
    },
    {
      "cell_type": "markdown",
      "metadata": {
        "id": "tK8w7w5IaumT"
      },
      "source": [
        "What this command says is subtract the 0th, 1st, 2nd, 3rd, 4th and 5th elements of $u$ from the 1st, 2nd, 3rd, 4th, 5th and 6th elements of $u$.  \n",
        "\n",
        "### Speed Increases\n",
        "\n",
        "For a 6 element array, the benefits of array operations are pretty slim.  There will be no appreciable difference in execution time because there are so few operations taking place.  But if we revisit 2D linear convection, we can see some substantial speed increases.  \n"
      ]
    },
    {
      "cell_type": "code",
      "execution_count": 4,
      "metadata": {
        "id": "9LP8BNJEaumU"
      },
      "outputs": [],
      "source": [
        "nx = 81\n",
        "ny = 81\n",
        "nt = 100\n",
        "c = 1\n",
        "dx = 2 / (nx - 1)\n",
        "dy = 2 / (ny - 1)\n",
        "sigma = .2\n",
        "dt = sigma * dx\n",
        "\n",
        "x = numpy.linspace(0, 2, nx)\n",
        "y = numpy.linspace(0, 2, ny)\n",
        "\n",
        "u = numpy.ones((ny, nx)) ##create a 1xn vector of 1's\n",
        "un = numpy.ones((ny, nx))\n",
        "\n",
        "###Assign initial conditions\n",
        "\n",
        "u[int(.5 / dy): int(1 / dy + 1), int(.5 / dx):int(1 / dx + 1)] = 2"
      ]
    },
    {
      "cell_type": "markdown",
      "metadata": {
        "id": "tf33HjXpaumU"
      },
      "source": [
        "With our initial conditions all set up, let's first try running our original nested loop code, making use of the iPython \"magic\" function `%%timeit`, which will help us evaluate the performance of our code.\n",
        "\n",
        "**Note**: The `%%timeit` magic function will run the code several times and then give an average execution time as a result.  If you have any figures being plotted within a cell where you run `%%timeit`, it will plot those figures repeatedly which can be a bit messy.\n",
        "\n",
        "The execution times below will vary from machine to machine.  Don't expect your times to match these times, but you _should_ expect to see the same general trend in decreasing execution time as we switch to array operations."
      ]
    },
    {
      "cell_type": "code",
      "source": [
        "u.shape"
      ],
      "metadata": {
        "colab": {
          "base_uri": "https://localhost:8080/"
        },
        "id": "vbKlAXXmeo7E",
        "outputId": "b5e55285-9c2f-45a4-c776-ebb9a280d881"
      },
      "execution_count": 6,
      "outputs": [
        {
          "output_type": "execute_result",
          "data": {
            "text/plain": [
              "(81, 81)"
            ]
          },
          "metadata": {},
          "execution_count": 6
        }
      ]
    },
    {
      "cell_type": "code",
      "execution_count": 5,
      "metadata": {
        "colab": {
          "base_uri": "https://localhost:8080/"
        },
        "id": "BwGCzJ8zaumU",
        "outputId": "ac0b9061-dde8-4d6b-a5ce-c224b4c82f4d"
      },
      "outputs": [
        {
          "output_type": "stream",
          "name": "stdout",
          "text": [
            "2.84 s ± 450 ms per loop (mean ± std. dev. of 7 runs, 1 loop each)\n"
          ]
        }
      ],
      "source": [
        "%%timeit\n",
        "u = numpy.ones((ny, nx))\n",
        "u[int(.5 / dy): int(1 / dy + 1), int(.5 / dx):int(1 / dx + 1)] = 2\n",
        "\n",
        "for n in range(nt + 1): ##loop across number of time steps\n",
        "    un = u.copy()\n",
        "    row, col = u.shape\n",
        "    for j in range(1, row):\n",
        "        for i in range(1, col):\n",
        "            u[j, i] = (un[j, i] - (c * dt / dx *\n",
        "                                  (un[j, i] - un[j, i - 1])) -\n",
        "                                  (c * dt / dy *\n",
        "                                   (un[j, i] - un[j - 1, i])))\n",
        "            u[0, :] = 1\n",
        "            u[-1, :] = 1\n",
        "            u[:, 0] = 1\n",
        "            u[:, -1] = 1"
      ]
    },
    {
      "cell_type": "markdown",
      "metadata": {
        "id": "JClaSIjKaumV"
      },
      "source": [
        "With the \"raw\" Python code above, the mean execution time achieved was 3.07 seconds (on a MacBook Pro Mid 2012).  Keep in mind that with these three nested loops, that the statements inside the **j** loop are being evaluated more than 650,000 times.   Let's compare that with the performance of the same code implemented with array operations:"
      ]
    },
    {
      "cell_type": "code",
      "execution_count": 7,
      "metadata": {
        "colab": {
          "base_uri": "https://localhost:8080/"
        },
        "id": "a9zeaY0ZaumV",
        "outputId": "bbbc6487-9802-412c-a0d4-e31d1d7c7440"
      },
      "outputs": [
        {
          "output_type": "stream",
          "name": "stdout",
          "text": [
            "5.48 ms ± 175 µs per loop (mean ± std. dev. of 7 runs, 100 loops each)\n"
          ]
        }
      ],
      "source": [
        "%%timeit\n",
        "u = numpy.ones((ny, nx))\n",
        "u[int(.5 / dy): int(1 / dy + 1), int(.5 / dx):int(1 / dx + 1)] = 2\n",
        "\n",
        "for n in range(nt + 1): ##loop across number of time steps\n",
        "    un = u.copy()\n",
        "    u[1:, 1:] = (un[1:, 1:] - (c * dt / dx * (un[1:, 1:] - un[1:, 0:-1])) -\n",
        "                              (c * dt / dy * (un[1:, 1:] - un[0:-1, 1:])))\n",
        "    u[0, :] = 1\n",
        "    u[-1, :] = 1\n",
        "    u[:, 0] = 1\n",
        "    u[:, -1] = 1"
      ]
    },
    {
      "cell_type": "markdown",
      "metadata": {
        "id": "CuctVsm5aumV"
      },
      "source": [
        "As you can see, the speed increase is substantial.  The same calculation goes from 3.07 seconds to 7.38 milliseconds.  3 seconds isn't a huge amount of time to wait, but these speed gains will increase exponentially with the size and complexity of the problem being evaluated.  "
      ]
    },
    {
      "cell_type": "code",
      "execution_count": 8,
      "metadata": {
        "colab": {
          "base_uri": "https://localhost:8080/",
          "height": 305
        },
        "id": "3ahfBz3DaumV",
        "outputId": "5d52362f-7310-464c-e3b2-b317d3434d32"
      },
      "outputs": [
        {
          "output_type": "error",
          "ename": "FileNotFoundError",
          "evalue": "[Errno 2] No such file or directory: '../styles/custom.css'",
          "traceback": [
            "\u001b[0;31m---------------------------------------------------------------------------\u001b[0m",
            "\u001b[0;31mFileNotFoundError\u001b[0m                         Traceback (most recent call last)",
            "\u001b[0;32m<ipython-input-8-ddce439eb638>\u001b[0m in \u001b[0;36m<cell line: 0>\u001b[0;34m()\u001b[0m\n\u001b[1;32m      3\u001b[0m     \u001b[0mstyles\u001b[0m \u001b[0;34m=\u001b[0m \u001b[0mopen\u001b[0m\u001b[0;34m(\u001b[0m\u001b[0;34m\"../styles/custom.css\"\u001b[0m\u001b[0;34m,\u001b[0m \u001b[0;34m\"r\"\u001b[0m\u001b[0;34m)\u001b[0m\u001b[0;34m.\u001b[0m\u001b[0mread\u001b[0m\u001b[0;34m(\u001b[0m\u001b[0;34m)\u001b[0m\u001b[0;34m\u001b[0m\u001b[0;34m\u001b[0m\u001b[0m\n\u001b[1;32m      4\u001b[0m     \u001b[0;32mreturn\u001b[0m \u001b[0mHTML\u001b[0m\u001b[0;34m(\u001b[0m\u001b[0mstyles\u001b[0m\u001b[0;34m)\u001b[0m\u001b[0;34m\u001b[0m\u001b[0;34m\u001b[0m\u001b[0m\n\u001b[0;32m----> 5\u001b[0;31m \u001b[0mcss_styling\u001b[0m\u001b[0;34m(\u001b[0m\u001b[0;34m)\u001b[0m\u001b[0;34m\u001b[0m\u001b[0;34m\u001b[0m\u001b[0m\n\u001b[0m",
            "\u001b[0;32m<ipython-input-8-ddce439eb638>\u001b[0m in \u001b[0;36mcss_styling\u001b[0;34m()\u001b[0m\n\u001b[1;32m      1\u001b[0m \u001b[0;32mfrom\u001b[0m \u001b[0mIPython\u001b[0m\u001b[0;34m.\u001b[0m\u001b[0mcore\u001b[0m\u001b[0;34m.\u001b[0m\u001b[0mdisplay\u001b[0m \u001b[0;32mimport\u001b[0m \u001b[0mHTML\u001b[0m\u001b[0;34m\u001b[0m\u001b[0;34m\u001b[0m\u001b[0m\n\u001b[1;32m      2\u001b[0m \u001b[0;32mdef\u001b[0m \u001b[0mcss_styling\u001b[0m\u001b[0;34m(\u001b[0m\u001b[0;34m)\u001b[0m\u001b[0;34m:\u001b[0m\u001b[0;34m\u001b[0m\u001b[0;34m\u001b[0m\u001b[0m\n\u001b[0;32m----> 3\u001b[0;31m     \u001b[0mstyles\u001b[0m \u001b[0;34m=\u001b[0m \u001b[0mopen\u001b[0m\u001b[0;34m(\u001b[0m\u001b[0;34m\"../styles/custom.css\"\u001b[0m\u001b[0;34m,\u001b[0m \u001b[0;34m\"r\"\u001b[0m\u001b[0;34m)\u001b[0m\u001b[0;34m.\u001b[0m\u001b[0mread\u001b[0m\u001b[0;34m(\u001b[0m\u001b[0;34m)\u001b[0m\u001b[0;34m\u001b[0m\u001b[0;34m\u001b[0m\u001b[0m\n\u001b[0m\u001b[1;32m      4\u001b[0m     \u001b[0;32mreturn\u001b[0m \u001b[0mHTML\u001b[0m\u001b[0;34m(\u001b[0m\u001b[0mstyles\u001b[0m\u001b[0;34m)\u001b[0m\u001b[0;34m\u001b[0m\u001b[0;34m\u001b[0m\u001b[0m\n\u001b[1;32m      5\u001b[0m \u001b[0mcss_styling\u001b[0m\u001b[0;34m(\u001b[0m\u001b[0;34m)\u001b[0m\u001b[0;34m\u001b[0m\u001b[0;34m\u001b[0m\u001b[0m\n",
            "\u001b[0;31mFileNotFoundError\u001b[0m: [Errno 2] No such file or directory: '../styles/custom.css'"
          ]
        }
      ],
      "source": [
        "from IPython.core.display import HTML\n",
        "def css_styling():\n",
        "    styles = open(\"../styles/custom.css\", \"r\").read()\n",
        "    return HTML(styles)\n",
        "css_styling()"
      ]
    }
  ],
  "metadata": {
    "kernelspec": {
      "display_name": "Python 3",
      "language": "python",
      "name": "python3"
    },
    "language_info": {
      "codemirror_mode": {
        "name": "ipython",
        "version": 3
      },
      "file_extension": ".py",
      "mimetype": "text/x-python",
      "name": "python",
      "nbconvert_exporter": "python",
      "pygments_lexer": "ipython3",
      "version": "3.6.8"
    },
    "colab": {
      "provenance": [],
      "include_colab_link": true
    }
  },
  "nbformat": 4,
  "nbformat_minor": 0
}