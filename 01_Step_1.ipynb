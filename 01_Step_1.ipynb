{
  "cells": [
    {
      "cell_type": "markdown",
      "metadata": {
        "id": "view-in-github",
        "colab_type": "text"
      },
      "source": [
        "<a href=\"https://colab.research.google.com/github/MassGH2023/CFD/blob/main/01_Step_1.ipynb\" target=\"_parent\"><img src=\"https://colab.research.google.com/assets/colab-badge.svg\" alt=\"Open In Colab\"/></a>"
      ]
    },
    {
      "cell_type": "raw",
      "metadata": {
        "id": "aDPGVl68OWV6"
      },
      "source": [
        "Text provided under a Creative Commons Attribution license, CC-BY.  All code is made available under the FSF-approved BSD-3 license.  (c) Lorena A. Barba, Gilbert F. Forsyth 2017. Thanks to NSF for support via CAREER award #1149784."
      ]
    },
    {
      "cell_type": "markdown",
      "metadata": {
        "id": "ZJDItL8zOWV7"
      },
      "source": [
        "[@LorenaABarba](https://twitter.com/LorenaABarba)"
      ]
    },
    {
      "cell_type": "markdown",
      "metadata": {
        "id": "cH4R1ypgOWV8"
      },
      "source": [
        "12 steps to Navier–Stokes\n",
        "======\n",
        "***"
      ]
    },
    {
      "cell_type": "markdown",
      "metadata": {
        "id": "f9Wu8nlCOWV9"
      },
      "source": [
        "Hello! Welcome to the **12 steps to Navier–Stokes**. This is a practical module that is used in the beginning of an interactive Computational Fluid Dynamics (CFD) course taught by [Prof. Lorena Barba](http://lorenabarba.com) since Spring 2009 at Boston University. The course assumes only basic programming knowledge (in any language) and of course some foundation in partial differential equations and fluid mechanics. The practical module was inspired by the ideas of Dr. Rio Yokota, who was a post-doc in Barba's lab, and has been refined by Prof. Barba and her students over several semesters teaching the course. The course is taught entirely using Python and students who don't know Python just learn as we work through the module.\n",
        "\n",
        "This [Jupyter notebook](https://jupyter-notebook.readthedocs.io/en/stable/) will lead you through the first step of programming your own Navier–Stokes solver in Python from the ground up.  We're going to dive right in.  Don't worry if you don't understand everything that's happening at first, we'll cover it in detail as we move forward and you can support your learning with the videos of [Prof. Barba's lectures on YouTube](http://www.youtube.com/playlist?list=PL30F4C5ABCE62CB61).\n",
        "\n",
        "For best results, after you follow this notebook, prepare your own code for Step 1, either as a Python script or in a clean Jupyter notebook.\n",
        "\n",
        "To execute this Notebook, we assume you have invoked the notebook server using: `jupyter notebook`."
      ]
    },
    {
      "cell_type": "markdown",
      "metadata": {
        "id": "gpsgAU8YOWV9"
      },
      "source": [
        "Step 1: 1-D Linear Convection\n",
        "-----\n",
        "***"
      ]
    },
    {
      "cell_type": "markdown",
      "metadata": {
        "id": "VHz56ivdOWV-"
      },
      "source": [
        "The 1-D Linear Convection equation is the simplest, most basic model that can be used to learn something about CFD. It is surprising that this little equation can teach us so much! Here it is:\n",
        "\n",
        "$$\\frac{\\partial u}{\\partial t} + c \\frac{\\partial u}{\\partial x} = 0$$\n",
        "\n",
        "With given initial conditions (understood as a *wave*), the equation represents the propagation of that initial *wave* with speed $c$, without change of shape. Let the initial condition be $u(x,0)=u_0(x)$. Then the exact solution of the equation is $u(x,t)=u_0(x-ct)$.\n",
        "\n",
        "We discretize this equation in both space and time, using the Forward Difference scheme for the time derivative and the Backward Difference scheme for the space derivative. Consider discretizing the spatial coordinate $x$ into points that we index from $i=0$ to $N$, and stepping in discrete time intervals of size $\\Delta t$.\n",
        "\n",
        "From the definition of a derivative (and simply removing the limit), we know that:\n",
        "\n",
        "$$\\frac{\\partial u}{\\partial x}\\approx \\frac{u(x+\\Delta x)-u(x)}{\\Delta x}$$\n",
        "\n",
        "Our discrete equation, then, is:\n",
        "\n",
        "$$\\frac{u_i^{n+1}-u_i^n}{\\Delta t} + c \\frac{u_i^n - u_{i-1}^n}{\\Delta x} = 0 $$\n",
        "\n",
        "Where $n$ and $n+1$ are two consecutive steps in time, while $i-1$ and $i$ are two neighboring points of the discretized $x$ coordinate. If there are given initial conditions, then the only unknown in this discretization is $u_i^{n+1}$.  We can solve for our unknown to get an equation that allows us to advance in time, as follows:\n",
        "\n",
        "$$u_i^{n+1} = u_i^n - c \\frac{\\Delta t}{\\Delta x}(u_i^n-u_{i-1}^n)$$\n",
        "\n",
        "Now let's try implementing this in Python.  \n",
        "\n",
        "We'll start by importing a few libraries to help us out.\n",
        "\n",
        "* `numpy` is a library that provides a bunch of useful matrix operations akin to MATLAB\n",
        "* `matplotlib` is a 2D plotting library that we will use to plot our results\n",
        "* `time` and `sys` provide basic timing functions that we'll use to slow down animations for viewing"
      ]
    },
    {
      "cell_type": "code",
      "execution_count": null,
      "metadata": {
        "id": "6vONNoSeOWV-"
      },
      "outputs": [],
      "source": [
        "# Remember: comments in python are denoted by the pound sign\n",
        "import numpy                       #here we load numpy\n",
        "from matplotlib import pyplot      #here we load matplotlib\n",
        "import time, sys                   #and load some utilities\n"
      ]
    },
    {
      "cell_type": "code",
      "execution_count": null,
      "metadata": {
        "id": "jf8F5WqMOWV_"
      },
      "outputs": [],
      "source": [
        "#this makes matplotlib plots appear in the notebook (instead of a separate window)\n",
        "%matplotlib inline"
      ]
    },
    {
      "cell_type": "markdown",
      "metadata": {
        "id": "Iyqm-GbhOWV_"
      },
      "source": [
        "Now let's define a few variables; we want to define an evenly spaced grid of points within a spatial domain that is 2 units of length wide, i.e., $x_i\\in(0,2)$.  We'll define a variable `nx`, which will be the number of grid points we want and `dx` will be the distance between any pair of adjacent grid points.  "
      ]
    },
    {
      "cell_type": "code",
      "execution_count": null,
      "metadata": {
        "id": "sw8Om3ZgOWWA"
      },
      "outputs": [],
      "source": [
        "nx = 41  # try changing this number from 41 to 81 and Run All ... what happens?\n",
        "dx = 2 / (nx-1)\n",
        "nt = 25    #nt is the number of timesteps we want to calculate\n",
        "dt = .025  #dt is the amount of time each timestep covers (delta t)\n",
        "c = 1      #assume wavespeed of c = 1"
      ]
    },
    {
      "cell_type": "markdown",
      "metadata": {
        "id": "q8gC028YOWWB"
      },
      "source": [
        "We also need to set up our initial conditions. The initial velocity $u_0$ is given as\n",
        "$u = 2$ in the interval $0.5 \\leq x \\leq 1$  and $u = 1$ everywhere else in $(0,2)$ (i.e., a hat function).\n",
        "\n",
        "Here, we use the function `ones()` defining a `numpy` array which is `nx` elements long with every value equal to 1."
      ]
    },
    {
      "cell_type": "code",
      "execution_count": null,
      "metadata": {
        "colab": {
          "base_uri": "https://localhost:8080/"
        },
        "id": "tX9bBpeQOWWB",
        "outputId": "b471787c-1b2d-4e99-fb38-9bd2ac6bef78"
      },
      "outputs": [
        {
          "output_type": "stream",
          "name": "stdout",
          "text": [
            "[1. 1. 1. 1. 1. 1. 1. 1. 1. 1. 2. 2. 2. 2. 2. 2. 2. 2. 2. 2. 2. 1. 1. 1.\n",
            " 1. 1. 1. 1. 1. 1. 1. 1. 1. 1. 1. 1. 1. 1. 1. 1. 1.]\n"
          ]
        }
      ],
      "source": [
        "u = numpy.ones(nx)      #numpy function ones()\n",
        "u[int(.5 / dx):int(1 / dx + 1)] = 2  #setting u = 2 between 0.5 and 1 as per our I.C.s\n",
        "print(u)"
      ]
    },
    {
      "cell_type": "markdown",
      "metadata": {
        "id": "Vv6brntSOWWB"
      },
      "source": [
        "Now let's take a look at those initial conditions using a Matplotlib plot.  We've imported the `matplotlib` plotting library `pyplot` and the plotting function is called `plot`, so we'll call `pyplot.plot`. To learn about the myriad possibilities of Matplotlib, explore the [Gallery](http://matplotlib.org/gallery.html) of example plots.\n",
        "\n",
        "Here, we use the syntax for a simple 2D plot: `plot(x,y)`, where the `x` values are evenly distributed grid points:"
      ]
    },
    {
      "cell_type": "code",
      "source": [
        "numpy.linspace(0, 2, nx)"
      ],
      "metadata": {
        "colab": {
          "base_uri": "https://localhost:8080/"
        },
        "id": "lI8bVf5BSDlf",
        "outputId": "d3c6a66e-d095-4c53-a5a5-f44d928d2d73"
      },
      "execution_count": null,
      "outputs": [
        {
          "output_type": "execute_result",
          "data": {
            "text/plain": [
              "array([0.  , 0.05, 0.1 , 0.15, 0.2 , 0.25, 0.3 , 0.35, 0.4 , 0.45, 0.5 ,\n",
              "       0.55, 0.6 , 0.65, 0.7 , 0.75, 0.8 , 0.85, 0.9 , 0.95, 1.  , 1.05,\n",
              "       1.1 , 1.15, 1.2 , 1.25, 1.3 , 1.35, 1.4 , 1.45, 1.5 , 1.55, 1.6 ,\n",
              "       1.65, 1.7 , 1.75, 1.8 , 1.85, 1.9 , 1.95, 2.  ])"
            ]
          },
          "metadata": {},
          "execution_count": 37
        }
      ]
    },
    {
      "cell_type": "code",
      "execution_count": null,
      "metadata": {
        "colab": {
          "base_uri": "https://localhost:8080/",
          "height": 430
        },
        "id": "0zLs1NoQOWWC",
        "outputId": "74965e08-1bd1-4862-927c-1e72a0508b7f"
      },
      "outputs": [
        {
          "output_type": "display_data",
          "data": {
            "text/plain": [
              "<Figure size 640x480 with 1 Axes>"
            ],
            "image/png": "[encoded data removed]"
          },
          "metadata": {}
        }
      ],
      "source": [
        "pyplot.plot(numpy.linspace(0, 2, nx), u);"
      ]
    },
    {
      "cell_type": "markdown",
      "metadata": {
        "id": "CziE2CKJOWWC"
      },
      "source": [
        "Why doesn't the hat function have perfectly straight sides? Think for a bit."
      ]
    },
    {
      "cell_type": "markdown",
      "metadata": {
        "id": "K0BgZmTzOWWC"
      },
      "source": [
        "Now it's time to implement the discretization of the convection equation using a finite-difference scheme.  \n",
        "\n",
        "For every element of our array `u`, we need to perform the operation $u_i^{n+1} = u_i^n - c \\frac{\\Delta t}{\\Delta x}(u_i^n-u_{i-1}^n)$\n",
        "\n",
        "We'll store the result in a new (temporary) array `un`, which will be the solution $u$ for the next time-step.  We will repeat this operation for as many time-steps as we specify and then we can see how far the wave has convected.  \n",
        "\n",
        "We first initialize our placeholder array `un` to hold the values we calculate for the $n+1$ timestep, using once again the NumPy function `ones()`.\n",
        "\n",
        "Then, we may think we have two iterative operations: one in space and one in time (we'll learn differently later), so we'll start by nesting one loop inside the other. Note the use of the nifty `range()` function. When we write: `for i in range(1,nx)` we will iterate through the `u` array, but we'll be skipping the first element (the zero-th element).  *Why?*"
      ]
    },
    {
      "cell_type": "code",
      "execution_count": null,
      "metadata": {
        "id": "sExqkkMZOWWC"
      },
      "outputs": [],
      "source": [
        "un = numpy.ones(nx) #initialize a temporary array\n",
        "\n",
        "for n in range(nt):  #loop for values of n from 0 to nt, so it will run nt times\n",
        "    un = u.copy() ##copy the existing values of u into un\n",
        "    for i in range(1, nx): ## you can try commenting this line and...\n",
        "    #for i in range(nx): ## ... uncommenting this line and see what happens!\n",
        "        u[i] = un[i] - c * dt / dx * (un[i] - un[i-1])\n",
        "\n"
      ]
    },
    {
      "cell_type": "code",
      "source": [
        "u.shape"
      ],
      "metadata": {
        "colab": {
          "base_uri": "https://localhost:8080/"
        },
        "id": "3g5R7G_gTUsV",
        "outputId": "8e7b9825-1f08-4918-ba0e-5c544c889c35"
      },
      "execution_count": null,
      "outputs": [
        {
          "output_type": "execute_result",
          "data": {
            "text/plain": [
              "(41,)"
            ]
          },
          "metadata": {},
          "execution_count": 8
        }
      ]
    },
    {
      "cell_type": "code",
      "source": [
        "u"
      ],
      "metadata": {
        "colab": {
          "base_uri": "https://localhost:8080/"
        },
        "id": "rORykTCQTWjF",
        "outputId": "95872d6a-ff86-4e57-a7e5-fa47b90646c6"
      },
      "execution_count": null,
      "outputs": [
        {
          "output_type": "execute_result",
          "data": {
            "text/plain": [
              "array([1.        , 1.        , 1.        , 1.        , 1.        ,\n",
              "       1.        , 1.        , 1.        , 1.        , 1.        ,\n",
              "       1.00000003, 1.00000077, 1.00000972, 1.00007826, 1.00045526,\n",
              "       1.00203866, 1.00731665, 1.02164263, 1.05387607, 1.11476147,\n",
              "       1.21217811, 1.34501895, 1.49999923, 1.6549713 , 1.78774363,\n",
              "       1.88478327, 1.94408527, 1.97104073, 1.97104073, 1.94408527,\n",
              "       1.88478327, 1.78774363, 1.6549713 , 1.49999923, 1.34501895,\n",
              "       1.21217811, 1.11476147, 1.05387607, 1.02164263, 1.00731665,\n",
              "       1.00203866])"
            ]
          },
          "metadata": {},
          "execution_count": 10
        }
      ]
    },
    {
      "cell_type": "markdown",
      "metadata": {
        "id": "KzQ_ccyHOWWC"
      },
      "source": [
        "**Note**—We will learn later that the code as written above is quite inefficient, and there are better ways to write this, Python-style. But let's carry on.\n",
        "\n",
        "Now let's try plotting our `u` array after advancing in time."
      ]
    },
    {
      "cell_type": "code",
      "execution_count": null,
      "metadata": {
        "colab": {
          "base_uri": "https://localhost:8080/",
          "height": 430
        },
        "id": "Rswig3c_OWWC",
        "outputId": "b7a00f3d-08d4-4b1c-a46c-2dfa37865171"
      },
      "outputs": [
        {
          "output_type": "display_data",
          "data": {
            "text/plain": [
              "<Figure size 640x480 with 1 Axes>"
            ],
            "image/png": "[encoded data removed]"
          },
          "metadata": {}
        }
      ],
      "source": [
        "pyplot.plot(numpy.linspace(0, 2, nx), u);"
      ]
    },
    {
      "cell_type": "markdown",
      "metadata": {
        "id": "YXQaq9CcOWWD"
      },
      "source": [
        "OK! So our hat function has definitely moved to the right, but it's no longer a hat.  **What's going on?**"
      ]
    },
    {
      "cell_type": "code",
      "source": [
        "u = numpy.ones(nx)      #numpy function ones()\n",
        "u[int(.5 / dx):int(1 / dx + 1)] = 2  #setting u = 2 between 0.5 and 1 as per our I.C.s\n",
        "\n",
        "un = numpy.ones(nx) #initialize a temporary array\n",
        "\n",
        "for n in range(50):  #loop for values of n from 0 to nt, so it will run nt times\n",
        "    un = u.copy() ##copy the existing values of u into un\n",
        "    for i in range(1, nx): ## you can try commenting this line and...\n",
        "    #for i in range(nx): ## ... uncommenting this line and see what happens!\n",
        "        u[i] = un[i] - 5 * dt / dx * (un[i] - un[i-1])\n",
        "pyplot.plot(numpy.linspace(0, 2, nx), u);"
      ],
      "metadata": {
        "colab": {
          "base_uri": "https://localhost:8080/",
          "height": 445
        },
        "id": "LG1Tu228Th_W",
        "outputId": "3bbcc284-530f-43a4-ffc9-6460eb7cea25"
      },
      "execution_count": null,
      "outputs": [
        {
          "output_type": "display_data",
          "data": {
            "text/plain": [
              "<Figure size 640x480 with 1 Axes>"
            ],
            "image/png": "[encoded data removed]"
          },
          "metadata": {}
        }
      ]
    },
    {
      "cell_type": "markdown",
      "metadata": {
        "id": "Om3gnd5WOWWD"
      },
      "source": [
        "Learn More\n",
        "-----\n",
        "***"
      ]
    },
    {
      "cell_type": "markdown",
      "metadata": {
        "id": "wRh8taqcOWWD"
      },
      "source": [
        "For a more thorough explanation of the finite-difference method, including topics like the truncation error, order of convergence and other details, watch **Video Lessons 2 and 3** by Prof. Barba on YouTube."
      ]
    },
    {
      "cell_type": "code",
      "execution_count": null,
      "metadata": {
        "colab": {
          "base_uri": "https://localhost:8080/",
          "height": 321
        },
        "id": "Zk5iKo08OWWD",
        "outputId": "0709ba19-cb32-4ebf-88cf-8237d942ef07"
      },
      "outputs": [
        {
          "output_type": "execute_result",
          "data": {
            "text/plain": [
              "<IPython.lib.display.YouTubeVideo at 0x7ab1747e5e10>"
            ],
            "text/html": [
              "\n",
              "        <iframe\n",
              "            width=\"400\"\n",
              "            height=\"300\"\n",
              "            src=\"https://www.youtube.com/embed/iz22_37mMkk\"\n",
              "            frameborder=\"0\"\n",
              "            allowfullscreen\n",
              "            \n",
              "        ></iframe>\n",
              "        "
            ]
          },
          "metadata": {},
          "execution_count": 28
        }
      ],
      "source": [
        "from IPython.display import YouTubeVideo\n",
        "YouTubeVideo('iz22_37mMkk')"
      ]
    },
    {
      "cell_type": "code",
      "execution_count": null,
      "metadata": {
        "colab": {
          "base_uri": "https://localhost:8080/",
          "height": 321
        },
        "id": "c647-5uGOWWD",
        "outputId": "9767b768-54b4-4a8f-cc5c-b82b7ed34278"
      },
      "outputs": [
        {
          "output_type": "execute_result",
          "data": {
            "text/plain": [
              "<IPython.lib.display.YouTubeVideo at 0x7ab18c538610>"
            ],
            "text/html": [
              "\n",
              "        <iframe\n",
              "            width=\"400\"\n",
              "            height=\"300\"\n",
              "            src=\"https://www.youtube.com/embed/xq9YTcv-fQg\"\n",
              "            frameborder=\"0\"\n",
              "            allowfullscreen\n",
              "            \n",
              "        ></iframe>\n",
              "        "
            ]
          },
          "metadata": {},
          "execution_count": 29
        }
      ],
      "source": [
        "YouTubeVideo('xq9YTcv-fQg')"
      ]
    },
    {
      "cell_type": "markdown",
      "metadata": {
        "id": "ToH5w-lHOWWD"
      },
      "source": [
        "For a careful walk-through of the discretization of the linear convection equation with finite differences (and also the following steps, up to Step 4), watch **Video Lesson 4** by Prof. Barba on YouTube."
      ]
    },
    {
      "cell_type": "code",
      "execution_count": null,
      "metadata": {
        "id": "GkQlmm5zOWWE",
        "outputId": "24415ae3-a338-4f23-b030-0b16aefa6a3d"
      },
      "outputs": [
        {
          "data": {
            "image/jpeg": "[encoded data removed]",
            "text/html": [
              "\n",
              "        <iframe\n",
              "            width=\"400\"\n",
              "            height=\"300\"\n",
              "            src=\"https://www.youtube.com/embed/y2WaK7_iMRI\"\n",
              "            frameborder=\"0\"\n",
              "            allowfullscreen\n",
              "        ></iframe>\n",
              "        "
            ],
            "text/plain": [
              "<IPython.lib.display.YouTubeVideo at 0x7ff9ad152b38>"
            ]
          },
          "execution_count": 10,
          "metadata": {},
          "output_type": "execute_result"
        }
      ],
      "source": [
        "YouTubeVideo('y2WaK7_iMRI')"
      ]
    },
    {
      "cell_type": "markdown",
      "metadata": {
        "id": "Ak18I1EeOWWE"
      },
      "source": [
        "## Last but not least"
      ]
    },
    {
      "cell_type": "markdown",
      "metadata": {
        "id": "mURFSyn4OWWE"
      },
      "source": [
        "**Remember** to rewrite Step 1 as a fresh Python script or in *your own* Jupyter notebook and then experiment by changing the discretization parameters. Once you have done this, you will be ready for [Step 2](./02_Step_2.ipynb).\n",
        "\n",
        "\n",
        "***"
      ]
    },
    {
      "cell_type": "code",
      "execution_count": null,
      "metadata": {
        "id": "jnFBjTvmOWWE",
        "outputId": "cea95441-d8fb-451a-a055-2139d9debb63"
      },
      "outputs": [
        {
          "data": {
            "text/html": [
              "<link href='http://fonts.googleapis.com/css?family=Fenix' rel='stylesheet' type='text/css'>\n",
              "<link href='http://fonts.googleapis.com/css?family=Alegreya+Sans:100,300,400,500,700,800,900,100italic,300italic,400italic,500italic,700italic,800italic,900italic' rel='stylesheet' type='text/css'>\n",
              "<link href='http://fonts.googleapis.com/css?family=Source+Code+Pro:300,400' rel='stylesheet' type='text/css'>\n",
              "<style>\n",
              "    @font-face {\n",
              "        font-family: \"Computer Modern\";\n",
              "        src: url('http://mirrors.ctan.org/fonts/cm-unicode/fonts/otf/cmunss.otf');\n",
              "    }\n",
              "    div.cell{\n",
              "        width:800px;\n",
              "        margin-left:16% !important;\n",
              "        margin-right:auto;\n",
              "    }\n",
              "    h1 {\n",
              "        font-family: 'Alegreya Sans', sans-serif;\n",
              "    }\n",
              "    h2 {\n",
              "        font-family: 'Fenix', serif;\n",
              "    }\n",
              "    h3{\n",
              "\t\tfont-family: 'Fenix', serif;\n",
              "        margin-top:12px;\n",
              "        margin-bottom: 3px;\n",
              "       }\n",
              "\th4{\n",
              "\t\tfont-family: 'Fenix', serif;\n",
              "       }\n",
              "    h5 {\n",
              "        font-family: 'Alegreya Sans', sans-serif;\n",
              "    }\t   \n",
              "    div.text_cell_render{\n",
              "        font-family: 'Alegreya Sans',Computer Modern, \"Helvetica Neue\", Arial, Helvetica, Geneva, sans-serif;\n",
              "        line-height: 135%;\n",
              "        font-size: 120%;\n",
              "        width:600px;\n",
              "        margin-left:auto;\n",
              "        margin-right:auto;\n",
              "    }\n",
              "    .CodeMirror{\n",
              "            font-family: \"Source Code Pro\";\n",
              "\t\t\tfont-size: 90%;\n",
              "    }\n",
              "/*    .prompt{\n",
              "        display: None;\n",
              "    }*/\n",
              "    .text_cell_render h1 {\n",
              "        font-weight: 200;\n",
              "        font-size: 50pt;\n",
              "\t\tline-height: 100%;\n",
              "        color:#CD2305;\n",
              "        margin-bottom: 0.5em;\n",
              "        margin-top: 0.5em;\n",
              "        display: block;\n",
              "    }\t\n",
              "    .text_cell_render h5 {\n",
              "        font-weight: 300;\n",
              "        font-size: 16pt;\n",
              "        color: #CD2305;\n",
              "        font-style: italic;\n",
              "        margin-bottom: .5em;\n",
              "        margin-top: 0.5em;\n",
              "        display: block;\n",
              "    }\n",
              "    \n",
              "    .warning{\n",
              "        color: rgb( 240, 20, 20 )\n",
              "        }  \n",
              "</style>\n",
              "<script>\n",
              "    MathJax.Hub.Config({\n",
              "                        TeX: {\n",
              "                           extensions: [\"AMSmath.js\"]\n",
              "                           },\n",
              "                tex2jax: {\n",
              "                    inlineMath: [ ['$','$'], [\"\\\\(\",\"\\\\)\"] ],\n",
              "                    displayMath: [ ['$$','$$'], [\"\\\\[\",\"\\\\]\"] ]\n",
              "                },\n",
              "                displayAlign: 'center', // Change this to 'center' to center equations.\n",
              "                \"HTML-CSS\": {\n",
              "                    styles: {'.MathJax_Display': {\"margin\": 4}}\n",
              "                }\n",
              "        });\n",
              "</script>\n"
            ],
            "text/plain": [
              "<IPython.core.display.HTML object>"
            ]
          },
          "execution_count": 11,
          "metadata": {},
          "output_type": "execute_result"
        }
      ],
      "source": [
        "from IPython.core.display import HTML\n",
        "def css_styling():\n",
        "    styles = open(\"../styles/custom.css\", \"r\").read()\n",
        "    return HTML(styles)\n",
        "css_styling()"
      ]
    },
    {
      "cell_type": "markdown",
      "metadata": {
        "id": "HJYmesXHOWWE"
      },
      "source": [
        "> (The cell above executes the style for this notebook. We modified a style we found on the GitHub of [CamDavidsonPilon](https://github.com/CamDavidsonPilon), [@Cmrn_DP](https://twitter.com/cmrn_dp).)"
      ]
    }
  ],
  "metadata": {
    "kernelspec": {
      "display_name": "Python 3",
      "language": "python",
      "name": "python3"
    },
    "language_info": {
      "codemirror_mode": {
        "name": "ipython",
        "version": 3
      },
      "file_extension": ".py",
      "mimetype": "text/x-python",
      "name": "python",
      "nbconvert_exporter": "python",
      "pygments_lexer": "ipython3",
      "version": "3.5.2"
    },
    "colab": {
      "provenance": [],
      "include_colab_link": true
    }
  },
  "nbformat": 4,
  "nbformat_minor": 0
}